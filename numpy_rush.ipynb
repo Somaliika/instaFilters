{
 "cells": [
  {
   "cell_type": "markdown",
   "metadata": {},
   "source": [
    "author: ilian"
   ]
  },
  {
   "cell_type": "markdown",
   "metadata": {},
   "source": [
    "# Пометки для Насти:)\n",
    "Все комменты на русском для тебя. Все на англ - для финальной версии."
   ]
  },
  {
   "cell_type": "code",
   "execution_count": 3,
   "metadata": {},
   "outputs": [],
   "source": [
    "import numpy as np\n",
    "import matplotlib.pyplot as plt"
   ]
  },
  {
   "cell_type": "markdown",
   "metadata": {},
   "source": [
    " # Part I"
   ]
  },
  {
   "cell_type": "markdown",
   "metadata": {},
   "source": [
    "1. Create a matrix of random values of a distribution of your choice."
   ]
  },
  {
   "cell_type": "code",
   "execution_count": null,
   "metadata": {},
   "outputs": [],
   "source": [
    "np.asmatrix(np.random.random((2,2)) * 10)"
   ]
  },
  {
   "cell_type": "markdown",
   "metadata": {},
   "source": [
    "2. Create a 1-dimensional array of 12 sequential numbers and convert it to a 4x3 array."
   ]
  },
  {
   "cell_type": "code",
   "execution_count": null,
   "metadata": {},
   "outputs": [],
   "source": [
    "np.array(range(12)).reshape(4, 3)"
   ]
  },
  {
   "cell_type": "markdown",
   "metadata": {},
   "source": [
    "3. Write a function that creates an incremental array of dimension (1,n) with values\n",
    "between 0 and 1. Use arr.shape to verify"
   ]
  },
  {
   "cell_type": "code",
   "execution_count": null,
   "metadata": {},
   "outputs": [],
   "source": [
    "def create_arr(n):\n",
    "    return np.random.random((1,n))"
   ]
  },
  {
   "cell_type": "code",
   "execution_count": null,
   "metadata": {},
   "outputs": [],
   "source": [
    "test = create_arr(3)\n",
    "print(test)\n",
    "print(test.shape)"
   ]
  },
  {
   "cell_type": "markdown",
   "metadata": {},
   "source": [
    "4. Generate a 10x12 array and extract row 0-4 of columns 8-12."
   ]
  },
  {
   "cell_type": "code",
   "execution_count": null,
   "metadata": {},
   "outputs": [],
   "source": [
    "arr = np.array(np.random.random((10, 12))*100)\n",
    "print(arr)\n",
    "arr[:4, 8:]"
   ]
  },
  {
   "cell_type": "markdown",
   "metadata": {},
   "source": [
    "5. Using the function in Q3, get m vectors and bind them together (to have a m x n)\n",
    "matrix. Plot the matrix with matplotlib’s imshow"
   ]
  },
  {
   "cell_type": "code",
   "execution_count": null,
   "metadata": {},
   "outputs": [],
   "source": [
    "m = 4\n",
    "n = 20\n",
    "arr = []\n",
    "for i in range(m):\n",
    "    arr.append(create_arr(n)[0])\n",
    "arr = np.asmatrix(arr)\n",
    "plt.imshow(arr)"
   ]
  },
  {
   "cell_type": "markdown",
   "metadata": {},
   "source": [
    "6. Multiply the resulting matrix from Q5 with the matrix of a picture of your choice.\n",
    "Plot the resulting matrix."
   ]
  },
  {
   "cell_type": "code",
   "execution_count": null,
   "metadata": {},
   "outputs": [],
   "source": [
    "mem = plt.imread('./mem.png')\n",
    "plt.imshow(mem)"
   ]
  },
  {
   "cell_type": "code",
   "execution_count": null,
   "metadata": {},
   "outputs": [],
   "source": [
    "print(mem.shape)\n",
    "print(mem)"
   ]
  },
  {
   "cell_type": "code",
   "execution_count": null,
   "metadata": {},
   "outputs": [],
   "source": [
    "mem = np.reshape(mem, (mem.shape[0]*mem.shape[1], mem.shape[2]))\n",
    "mem * arr"
   ]
  },
  {
   "cell_type": "markdown",
   "metadata": {},
   "source": [
    "# Part II"
   ]
  },
  {
   "cell_type": "markdown",
   "metadata": {},
   "source": [
    "# AMARO"
   ]
  },
  {
   "cell_type": "markdown",
   "metadata": {},
   "source": [
    "Пример как менять цвет. Нужно применить разные правила для центра и краев фото, вычислив радиус"
   ]
  },
  {
   "cell_type": "markdown",
   "metadata": {},
   "source": [
    "Just try to add brightness"
   ]
  },
  {
   "cell_type": "code",
   "execution_count": null,
   "metadata": {},
   "outputs": [],
   "source": [
    "brightness = [[1.2, 1.2, 1.2]]"
   ]
  },
  {
   "cell_type": "code",
   "execution_count": null,
   "metadata": {},
   "outputs": [],
   "source": [
    "filteredVector = brightness * vector\n",
    "brightPhoto = np.reshape(filteredVector, (shapeOriginal[0], shapeOriginal[1], shapeOriginal[2]))\n",
    "plt.imshow(brightPhoto)"
   ]
  },
  {
   "cell_type": "code",
   "execution_count": null,
   "metadata": {},
   "outputs": [],
   "source": [
    "brightness = [[0.8, 0.8, 0.8]]"
   ]
  },
  {
   "cell_type": "code",
   "execution_count": null,
   "metadata": {},
   "outputs": [],
   "source": [
    "filteredVector = brightness * vector\n",
    "darkPhoto = np.reshape(filteredVector, (shapeOriginal[0], shapeOriginal[1], shapeOriginal[2]))\n",
    "plt.imshow(darkPhoto)"
   ]
  },
  {
   "cell_type": "code",
   "execution_count": null,
   "metadata": {},
   "outputs": [],
   "source": [
    "plt.subplot(1, 3, 1)\n",
    "plt.imshow(original)\n",
    "plt.axis('off')\n",
    "plt.subplot(1, 3, 2)\n",
    "plt.imshow(brightPhoto)\n",
    "plt.axis('off')\n",
    "plt.subplot(1, 3, 3)\n",
    "plt.imshow(darkPhoto)\n",
    "plt.axis('off')\n",
    "plt.show()"
   ]
  },
  {
   "cell_type": "markdown",
   "metadata": {},
   "source": [
    "# RISE"
   ]
  },
  {
   "cell_type": "markdown",
   "metadata": {},
   "source": [
    "Выдает не верный оттенок"
   ]
  },
  {
   "cell_type": "code",
   "execution_count": null,
   "metadata": {},
   "outputs": [],
   "source": [
    "def rise(vector):\n",
    "    red_coef = np.array([0.393, 0.769, 0.189])\n",
    "    green_coef = np.array([0.349, 0.686, 0.168])\n",
    "    blue_coef = np.array([0.272, 0.534, 0.131])\n",
    "    filteredVector = np.copy(vector)\n",
    "    for i in range(vector.shape[0]):\n",
    "        red = min(1, max(0, np.sum(filteredVector[i] * red_coef)))\n",
    "        green = min(1, max(0, np.sum(filteredVector[i] * green_coef)))\n",
    "        blue = min(1, max(0, np.sum(filteredVector[i] * blue_coef)))\n",
    "        filteredVector[i] = np.array([red, green, blue])\n",
    "    return filteredVector"
   ]
  },
  {
   "cell_type": "markdown",
   "metadata": {},
   "source": [
    "Попытка номер два по статье http://www.niwa.nu/2013/05/math-behind-colorspace-conversions-rgb-hsl/\n",
    "Нужно бы переделать по статье http://beesbuzz.biz/code/16-hsv-color-transforms\n",
    "Задача: сдвинуть цвет по Hue\n",
    "Статус: Пока не завершено"
   ]
  },
  {
   "cell_type": "code",
   "execution_count": 12,
   "metadata": {},
   "outputs": [],
   "source": [
    "def rise1(vector):\n",
    "    filteredVector = np.array(vector.shape[0])\n",
    "    for i in range(vector.shape[0]):\n",
    "        #print(vector[i])\n",
    "        maxRGB = max(vector[i])\n",
    "        minRGB = min(vector[i])\n",
    "        R = vector[i][0]\n",
    "        G = vector[i][1]\n",
    "        B = vector[i][2]\n",
    "        Luminance = (minRGB + maxRGB) / 2\n",
    "        #print(Luminance)\n",
    "        if (Luminance == 0):\n",
    "            Saturation = 0\n",
    "            Hue = 0\n",
    "        else:\n",
    "            if (Luminance < 0.5):\n",
    "                Saturation = (maxRGB-minRGB)/(maxRGB+minRGB)\n",
    "            else: \n",
    "                Saturation = (maxRGB-minRGB)/(2.0-maxRGB-minRGB)\n",
    "            if (R == maxRGB):\n",
    "                Hue = (G-B)/(maxRGB-minRGB)\n",
    "            elif (G == maxRGB):\n",
    "                Hue = 2.0 + (B-R)/(maxRGB-minRGB)\n",
    "            elif (B == maxRGB):\n",
    "                Hue = 4.0 + (R-G)/(maxRGB-minRGB)\n",
    "        #print(Saturation)\n",
    "        if (Hue > 5):\n",
    "            print(vector[i])\n",
    "            print(maxRGB, minRGB)\n",
    "            print(R,G)\n",
    "        Hue *= 60\n",
    "        if (Hue < 0):\n",
    "            Hue += 360\n",
    "        Hue = round(Hue)\n",
    "        print(Luminance, Saturation, Hue)\n",
    "        np.append(filteredVector, Hue)\n",
    "    return filteredVector"
   ]
  },
  {
   "cell_type": "code",
   "execution_count": 13,
   "metadata": {},
   "outputs": [
    {
     "name": "stdout",
     "output_type": "stream",
     "text": [
      "0.479 0.605427974947808 109.0\n",
      "0.2585 0.3500967117988394 39.0\n",
      "0.403 0.3250620347394541 179.0\n"
     ]
    },
    {
     "data": {
      "text/plain": [
       "<matplotlib.image.AxesImage at 0x11b698240>"
      ]
     },
     "execution_count": 13,
     "metadata": {},
     "output_type": "execute_result"
    },
    {
     "data": {
      "image/png": "[encoded data removed]",
      "text/plain": [
       "<Figure size 432x288 with 1 Axes>"
      ]
     },
     "metadata": {
      "needs_background": "light"
     },
     "output_type": "display_data"
    }
   ],
   "source": [
    "vector = np.array([[0.293, 0.769, 0.189], [0.349, 0.286, 0.168], [0.272, 0.534, 0.531]])\n",
    "#print(vector.shape)\n",
    "v = rise1(vector)\n",
    "vector = np.array([[[0.293, 0.769, 0.189], [0.349, 0.286, 0.168], [0.272, 0.534, 0.531]]])\n",
    "plt.imshow(vector)"
   ]
  },
  {
   "cell_type": "markdown",
   "metadata": {},
   "source": [
    "# INKWELL"
   ]
  },
  {
   "cell_type": "code",
   "execution_count": null,
   "metadata": {},
   "outputs": [],
   "source": [
    "def inkwell(vector):\n",
    "    # Count average of brightness allover image\n",
    "    coef = [0.299, 0.587, 0.114]\n",
    "    avg = np.average(vector * coef)\n",
    "    contrast = 2\n",
    "    # Increase contrast - raise the difference between channel and average (grayscale)\n",
    "    filteredVector = avg + contrast * (vector - avg)\n",
    "    filteredVector = np.minimum(np.ones(vector.shape), np.maximum(np.zeros((vector.shape)), filteredVector))\n",
    "    # Make photo black and white\n",
    "    for i in range(vector.shape[0]):\n",
    "        avg = np.average(filteredVector[i])\n",
    "        filteredVector[i] = np.full(filteredVector[i].shape, avg)\n",
    "    \n",
    "    return filteredVector"
   ]
  },
  {
   "cell_type": "markdown",
   "metadata": {},
   "source": [
    "# Testing filter"
   ]
  },
  {
   "cell_type": "markdown",
   "metadata": {},
   "source": [
    "Main function to test all filters"
   ]
  },
  {
   "cell_type": "code",
   "execution_count": null,
   "metadata": {},
   "outputs": [],
   "source": [
    "def apply_filter(filter, photo):\n",
    "    original = plt.imread(photo)\n",
    "    shapeOriginal = original.shape\n",
    "    print(shapeOriginal)\n",
    "    vector = np.reshape(original, (shapeOriginal[0]*shapeOriginal[1], shapeOriginal[2]))\n",
    "    if (shapeOriginal[2] == 4):\n",
    "        vector = vector[:, :3]\n",
    "    filteredVector = filter(vector)\n",
    "    if (shapeOriginal[2] == 4):\n",
    "        b = np.ones((filteredVector.shape[0], 1))\n",
    "        filteredVector = np.concatenate((filteredVector,b), axis = 1)\n",
    "    filteredPhoto = np.reshape(filteredVector, (shapeOriginal[0], shapeOriginal[1], shapeOriginal[2]))\n",
    "    plt.subplot(1, 2, 1)\n",
    "    plt.imshow(original)\n",
    "    plt.axis('off')\n",
    "    plt.subplot(1, 2, 2)\n",
    "    plt.imshow(filteredPhoto)\n",
    "    plt.axis('off')\n",
    "    plt.show()"
   ]
  },
  {
   "cell_type": "markdown",
   "metadata": {},
   "source": [
    "Test filters here:"
   ]
  },
  {
   "cell_type": "code",
   "execution_count": null,
   "metadata": {},
   "outputs": [],
   "source": [
    "filters = [inkwell, rise]\n",
    "photos = ['mem1.png', 'example.png']\n",
    "apply_filter(filters[1], photos[1])"
   ]
  },
  {
   "cell_type": "code",
   "execution_count": null,
   "metadata": {},
   "outputs": [],
   "source": []
  }
 ],
 "metadata": {
  "kernelspec": {
   "display_name": "Python 3",
   "language": "python",
   "name": "python3"
  },
  "language_info": {
   "codemirror_mode": {
    "name": "ipython",
    "version": 3
   },
   "file_extension": ".py",
   "mimetype": "text/x-python",
   "name": "python",
   "nbconvert_exporter": "python",
   "pygments_lexer": "ipython3",
   "version": "3.6.2"
  }
 },
 "nbformat": 4,
 "nbformat_minor": 2
}
